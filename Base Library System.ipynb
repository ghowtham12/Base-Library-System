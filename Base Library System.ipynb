{
 "cells": [
  {
   "cell_type": "code",
   "execution_count": 4,
   "id": "455a2a72",
   "metadata": {},
   "outputs": [
    {
     "name": "stdout",
     "output_type": "stream",
     "text": [
      "Collecting flask_sqlalchemy\n",
      "  Downloading Flask_SQLAlchemy-3.0.3-py3-none-any.whl (24 kB)\n",
      "Collecting Flask>=2.2\n",
      "  Downloading Flask-2.3.2-py3-none-any.whl (96 kB)\n",
      "     -------------------------------------- 96.9/96.9 kB 503.6 kB/s eta 0:00:00\n",
      "Requirement already satisfied: SQLAlchemy>=1.4.18 in c:\\users\\hp\\anaconda3\\lib\\site-packages (from flask_sqlalchemy) (1.4.39)\n",
      "Requirement already satisfied: importlib-metadata>=3.6.0 in c:\\users\\hp\\anaconda3\\lib\\site-packages (from Flask>=2.2->flask_sqlalchemy) (4.11.3)\n",
      "Collecting click>=8.1.3\n",
      "  Downloading click-8.1.3-py3-none-any.whl (96 kB)\n",
      "     -------------------------------------- 96.6/96.6 kB 461.8 kB/s eta 0:00:00\n",
      "Collecting Jinja2>=3.1.2\n",
      "  Downloading Jinja2-3.1.2-py3-none-any.whl (133 kB)\n",
      "     ------------------------------------ 133.1/133.1 kB 437.2 kB/s eta 0:00:00\n",
      "Collecting Werkzeug>=2.3.3\n",
      "  Downloading Werkzeug-2.3.4-py3-none-any.whl (242 kB)\n",
      "     ------------------------------------ 242.5/242.5 kB 479.8 kB/s eta 0:00:00\n",
      "Collecting blinker>=1.6.2\n",
      "  Downloading blinker-1.6.2-py3-none-any.whl (13 kB)\n",
      "Collecting itsdangerous>=2.1.2\n",
      "  Downloading itsdangerous-2.1.2-py3-none-any.whl (15 kB)\n",
      "Requirement already satisfied: greenlet!=0.4.17 in c:\\users\\hp\\anaconda3\\lib\\site-packages (from SQLAlchemy>=1.4.18->flask_sqlalchemy) (1.1.1)\n",
      "Requirement already satisfied: colorama in c:\\users\\hp\\anaconda3\\lib\\site-packages (from click>=8.1.3->Flask>=2.2->flask_sqlalchemy) (0.4.5)\n",
      "Requirement already satisfied: zipp>=0.5 in c:\\users\\hp\\anaconda3\\lib\\site-packages (from importlib-metadata>=3.6.0->Flask>=2.2->flask_sqlalchemy) (3.8.0)\n",
      "Requirement already satisfied: MarkupSafe>=2.0 in c:\\users\\hp\\anaconda3\\lib\\site-packages (from Jinja2>=3.1.2->Flask>=2.2->flask_sqlalchemy) (2.0.1)\n",
      "Collecting MarkupSafe>=2.0\n",
      "  Downloading MarkupSafe-2.1.2-cp39-cp39-win_amd64.whl (16 kB)\n",
      "Installing collected packages: MarkupSafe, itsdangerous, click, blinker, Werkzeug, Jinja2, Flask, flask_sqlalchemy\n",
      "  Attempting uninstall: MarkupSafe\n",
      "    Found existing installation: MarkupSafe 2.0.1\n",
      "    Uninstalling MarkupSafe-2.0.1:\n",
      "      Successfully uninstalled MarkupSafe-2.0.1\n",
      "  Attempting uninstall: itsdangerous\n",
      "    Found existing installation: itsdangerous 2.0.1\n",
      "    Uninstalling itsdangerous-2.0.1:\n",
      "      Successfully uninstalled itsdangerous-2.0.1\n",
      "  Attempting uninstall: click\n",
      "    Found existing installation: click 8.0.4\n",
      "    Uninstalling click-8.0.4:\n",
      "      Successfully uninstalled click-8.0.4\n",
      "  Attempting uninstall: Werkzeug\n",
      "    Found existing installation: Werkzeug 2.0.3\n",
      "    Uninstalling Werkzeug-2.0.3:\n",
      "      Successfully uninstalled Werkzeug-2.0.3\n",
      "  Attempting uninstall: Jinja2\n",
      "    Found existing installation: Jinja2 2.11.3\n",
      "    Uninstalling Jinja2-2.11.3:\n",
      "      Successfully uninstalled Jinja2-2.11.3\n",
      "  Attempting uninstall: Flask\n",
      "    Found existing installation: Flask 1.1.2\n",
      "    Uninstalling Flask-1.1.2:\n",
      "      Successfully uninstalled Flask-1.1.2\n",
      "Successfully installed Flask-2.3.2 Jinja2-3.1.2 MarkupSafe-2.1.2 Werkzeug-2.3.4 blinker-1.6.2 click-8.1.3 flask_sqlalchemy-3.0.3 itsdangerous-2.1.2\n"
     ]
    },
    {
     "name": "stderr",
     "output_type": "stream",
     "text": [
      "ERROR: pip's dependency resolver does not currently take into account all the packages that are installed. This behaviour is the source of the following dependency conflicts.\n",
      "anaconda-project 0.11.1 requires ruamel-yaml, which is not installed.\n"
     ]
    }
   ],
   "source": [
    "!pip install flask_sqlalchemy\n"
   ]
  },
  {
   "cell_type": "code",
   "execution_count": 5,
   "id": "c3f111e5",
   "metadata": {},
   "outputs": [],
   "source": [
    "from flask_sqlalchemy import SQLAlchemy\n",
    "\n",
    "db = SQLAlchemy()\n",
    "\n",
    "class Book(db.Model):\n",
    "    id = db.Column(db.Integer, primary_key=True)\n",
    "    title = db.Column(db.String(255), nullable=False)\n",
    "    author = db.Column(db.String(255), nullable=False)\n",
    "    stock = db.Column(db.Integer, nullable=False)\n",
    "\n",
    "class Member(db.Model):\n",
    "    id = db.Column(db.Integer, primary_key=True)\n",
    "    name = db.Column(db.String(255), nullable=False)\n",
    "    outstanding_debt = db.Column(db.Float, nullable=False, default=0.0)\n",
    "\n",
    "class Transaction(db.Model):\n",
    "    id = db.Column(db.Integer, primary_key=True)\n",
    "    book_id = db.Column(db.Integer, db.ForeignKey('book.id'), nullable=False)\n",
    "    member_id = db.Column(db.Integer, db.ForeignKey('member.id'), nullable=False)\n",
    "    issue_date = db.Column(db.Date, nullable=False)\n",
    "    return_date = db.Column(db.Date)\n",
    "    rent_fee = db.Column(db.Float, nullable=False, default=0.0)\n"
   ]
  },
  {
   "cell_type": "code",
   "execution_count": 6,
   "id": "58b51a6c",
   "metadata": {},
   "outputs": [],
   "source": [
    "from flask import Flask, request, jsonify\n",
    "\n",
    "app = Flask(__name__)\n",
    "\n",
    "# Books routes\n",
    "@app.route('/books', methods=['GET'])\n",
    "def get_books():\n",
    "    books = Book.query.all()\n",
    "    return jsonify([book.serialize() for book in books])\n",
    "\n",
    "@app.route('/books', methods=['POST'])\n",
    "def create_book():\n",
    "    data = request.json\n",
    "    book = Book(title=data['title'], author=data['author'], stock=data['stock'])\n",
    "    db.session.add(book)\n",
    "    db.session.commit()\n",
    "    return jsonify(book.serialize()), 201\n",
    "\n",
    "# Members routes\n",
    "@app.route('/members', methods=['GET'])\n",
    "def get_members():\n",
    "    members = Member.query.all()\n",
    "    return jsonify([member.serialize() for member in members])\n",
    "\n",
    "@app.route('/members', methods=['POST'])\n",
    "def create_member():\n",
    "    data = request.json\n",
    "    member = Member(name=data['name'])\n",
    "    db.session.add(member)\n",
    "    db.session.commit()\n",
    "    return jsonify(member.serialize()), 201\n"
   ]
  },
  {
   "cell_type": "code",
   "execution_count": 7,
   "id": "820834af",
   "metadata": {},
   "outputs": [],
   "source": [
    "@app.route('/transactions', methods=['POST'])\n",
    "def issue_book():\n",
    "    data = request.json\n",
    "    book_id = data['book_id']\n",
    "    member_id = data['member_id']\n",
    "\n",
    "    # Check if the book is available\n",
    "   \n"
   ]
  },
  {
   "cell_type": "code",
   "execution_count": null,
   "id": "be4b30bd",
   "metadata": {},
   "outputs": [],
   "source": []
  }
 ],
 "metadata": {
  "kernelspec": {
   "display_name": "Python 3 (ipykernel)",
   "language": "python",
   "name": "python3"
  },
  "language_info": {
   "codemirror_mode": {
    "name": "ipython",
    "version": 3
   },
   "file_extension": ".py",
   "mimetype": "text/x-python",
   "name": "python",
   "nbconvert_exporter": "python",
   "pygments_lexer": "ipython3",
   "version": "3.9.13"
  }
 },
 "nbformat": 4,
 "nbformat_minor": 5
}
